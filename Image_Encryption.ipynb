{
  "nbformat": 4,
  "nbformat_minor": 0,
  "metadata": {
    "colab": {
      "name": "Image Encryption.ipynb",
      "provenance": [],
      "collapsed_sections": [],
      "include_colab_link": true
    },
    "kernelspec": {
      "name": "python3",
      "display_name": "Python 3"
    }
  },
  "cells": [
    {
      "cell_type": "markdown",
      "metadata": {
        "id": "view-in-github",
        "colab_type": "text"
      },
      "source": [
        "<a href=\"https://colab.research.google.com/github/vivek0464/A-novel-image-encryption-scheme/blob/main/Image_Encryption.ipynb\" target=\"_parent\"><img src=\"https://colab.research.google.com/assets/colab-badge.svg\" alt=\"Open In Colab\"/></a>"
      ]
    },
    {
      "cell_type": "code",
      "metadata": {
        "id": "upw5DviyBuM1"
      },
      "source": [
        "import math\n",
        "import random\n",
        "import numpy as np\n",
        "import matplotlib.image as img\n",
        "from google.colab import files\n",
        "from PIL import Image"
      ],
      "execution_count": null,
      "outputs": []
    },
    {
      "cell_type": "code",
      "metadata": {
        "id": "fv0Xd8afZfyE",
        "outputId": "3f4ace06-9c5e-4f63-92d4-02662aac2bf3",
        "colab": {
          "resources": {
            "http://localhost:8080/nbextensions/google.colab/files.js": {
              "data": "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",
              "ok": true,
              "headers": [
                [
                  "content-type",
                  "application/javascript"
                ]
              ],
              "status": 200,
              "status_text": ""
            }
          },
          "base_uri": "https://localhost:8080/",
          "height": 73
        }
      },
      "source": [
        "uploaded = files.upload()\n",
        "imgP = img.imread('image.tiff')"
      ],
      "execution_count": null,
      "outputs": [
        {
          "output_type": "display_data",
          "data": {
            "text/html": [
              "\n",
              "     <input type=\"file\" id=\"files-f903143f-d5eb-45e2-bed0-89aaa75d59e0\" name=\"files[]\" multiple disabled\n",
              "        style=\"border:none\" />\n",
              "     <output id=\"result-f903143f-d5eb-45e2-bed0-89aaa75d59e0\">\n",
              "      Upload widget is only available when the cell has been executed in the\n",
              "      current browser session. Please rerun this cell to enable.\n",
              "      </output>\n",
              "      <script src=\"/nbextensions/google.colab/files.js\"></script> "
            ],
            "text/plain": [
              "<IPython.core.display.HTML object>"
            ]
          },
          "metadata": {
            "tags": []
          }
        },
        {
          "output_type": "stream",
          "text": [
            "Saving image.tiff to image (3).tiff\n"
          ],
          "name": "stdout"
        }
      ]
    },
    {
      "cell_type": "code",
      "metadata": {
        "id": "HhTAvBRLHlLt"
      },
      "source": [
        "def MeanFract_list(L):\n",
        "    sum = 0\n",
        "    for i in L:\n",
        "        sum = sum+i\n",
        "    return math.modf(sum)[0]\n",
        "\n",
        "def MeanFract_numpy(M, r):\n",
        "    sum = 0\n",
        "    for i in range(M.shape[0]):\n",
        "        if i == r: \n",
        "            continue\n",
        "        for j in M[i]:\n",
        "            sum = sum+j\n",
        "    return math.modf(sum)[0]\n",
        "\n",
        "def generateSeq(x0, a, b, len):\n",
        "    seq = list()\n",
        "    seq.append(x0)\n",
        "    for i in range(len-1):\n",
        "        x = math.cos(a/(x0**b))\n",
        "        x0 = x\n",
        "        seq.append(x0)\n",
        "    return seq"
      ],
      "execution_count": null,
      "outputs": []
    },
    {
      "cell_type": "code",
      "metadata": {
        "id": "jd-Yf5d90gvp"
      },
      "source": [
        "def generateKey(T):\n",
        "    key = list()\n",
        "    S = generateSeq(random.uniform(0.9,1), random.uniform(0.9,1), random.randint(1,20), T*8)\n",
        "    k = 0\n",
        "    for i in range(T):\n",
        "        L = list()\n",
        "        L.append(random.randint(1, 50))\n",
        "        for j in range(4):\n",
        "            L.append(S[k])\n",
        "            k = k+1\n",
        "        L.append(random.randint(1, 50))\n",
        "        for j in range(4):\n",
        "            L.append(S[k])\n",
        "            k = k+1\n",
        "        key.append(L)\n",
        "    return key"
      ],
      "execution_count": null,
      "outputs": []
    },
    {
      "cell_type": "code",
      "metadata": {
        "id": "KAlXI5AJDDpJ"
      },
      "source": [
        "def encrypt(imgP, key, T):\n",
        "    C = np.ndarray(imgP.shape)\n",
        "\n",
        "    for color in range(3):\n",
        "        P = imgP[:,:,color].copy()\n",
        "\n",
        "        for r in range(T):\n",
        "            for k in range(1, 3):\n",
        "                M = P.shape[0]\n",
        "                x0 = key[r][5*(k-1)+1] + MeanFract_list(key[r])\n",
        "                a = key[r][5*(k-1)+4]\n",
        "                b = key[r][5]\n",
        "\n",
        "                # Generate a random-like path using 1-DCF map\n",
        "                RLP = generateSeq(x0, a, b, M)\n",
        "\n",
        "                # Normalize the RLP sequence\n",
        "                RLP = [i[0] for i in sorted(enumerate(RLP), key=lambda x:x[1])]\n",
        "                RLP = np.array(RLP)\n",
        "                \n",
        "                avg = MeanFract_numpy(P, RLP[0])\n",
        "\n",
        "                # Generate two sequences S1 and S2 by 1-DCF map\n",
        "                x0 = key[r][5*(k-1)+2] + avg\n",
        "                S1 = generateSeq(x0, a, b, M)\n",
        "                x0 = key[r][5*(k-1)+3]\n",
        "                S2 = generateSeq(x0, a, b, M)\n",
        "\n",
        "                # Normalize S1 and S2\n",
        "                S1 = [int(math.modf(i*1e7)[1] % 256) for i in S1]\n",
        "                S2 = [int(math.modf(i*1e7)[1] % 256) for i in S2]\n",
        "                S1 = np.array(S1)\n",
        "                S2 = np.array(S2)\n",
        "\n",
        "                P[RLP[0]] = P[RLP[0]] ^ S1\n",
        "                for i in range(1, M):\n",
        "                    P[RLP[i]] = (P[RLP[i]] + (P[RLP[i-1]] ^ S2)) % 256\n",
        "\n",
        "                avg = MeanFract_numpy(P, RLP[M-1])\n",
        "\n",
        "                # Generate two sequences S1 and S2 by 1-DCF map\n",
        "                x0 = key[r][5*(k-1)+3] + avg\n",
        "                S1 = generateSeq(x0, a, b, M)\n",
        "                x0 = key[r][5*(k-1)+2]\n",
        "                S2 = generateSeq(x0, a, b, M)\n",
        "\n",
        "                # Normalize S1 and S2\n",
        "                S1 = [int(math.modf(i*1e7)[1] % 256) for i in S1]\n",
        "                S2 = [int(math.modf(i*1e7)[1] % 256) for i in S2]\n",
        "                S1 = np.array(S1)\n",
        "                S2 = np.array(S2)\n",
        "\n",
        "                P[RLP[M-1]] = P[RLP[M-1]] ^ S1\n",
        "                for i in range(M-2, -1, -1):\n",
        "                    P[RLP[i]] = (P[RLP[i]] + (P[RLP[i+1]] ^ S2)) % 256\n",
        "\n",
        "                P = P.transpose()\n",
        "\n",
        "        C[:,:,color] = P\n",
        "\n",
        "    C = C.astype(np.uint8)\n",
        "    return C"
      ],
      "execution_count": null,
      "outputs": []
    },
    {
      "cell_type": "code",
      "metadata": {
        "id": "S-QsBWbjqpmm"
      },
      "source": [
        "def decrypt(imgP, key, T):\n",
        "    C = np.ndarray(imgP.shape)\n",
        "\n",
        "    for color in range(3):\n",
        "        P = imgP[:,:,color].copy()\n",
        "\n",
        "        for r in range(T-1, -1, -1):\n",
        "            for k in range(2, 0, -1):\n",
        "                M = P.shape[0]\n",
        "                x0 = key[r][5*(k-1)+1] + MeanFract_list(key[r])\n",
        "                a = key[r][5*(k-1)+4]\n",
        "                b = key[r][5]\n",
        "\n",
        "                RLP = generateSeq(x0, a, b, M)\n",
        "                RLP = [i[0] for i in sorted(enumerate(RLP), key=lambda x:x[1])]\n",
        "                RLP = np.array(RLP)\n",
        "\n",
        "                P = P.transpose()\n",
        "\n",
        "                x0 = key[r][5*(k-1)+2]\n",
        "                S2 = generateSeq(x0, a, b, M)\n",
        "                S2 = [int(math.modf(i*1e7)[1] % 256) for i in S2]\n",
        "                S2 = np.array(S2)\n",
        "\n",
        "                for i in range(M-1):\n",
        "                    P[RLP[i]] = (P[RLP[i]] - (P[RLP[i+1]] ^ S2) + 256) % 256\n",
        "                \n",
        "                avg = MeanFract_numpy(P, RLP[M-1])\n",
        "                x0 = key[r][5*(k-1)+3] + avg\n",
        "                S1 = generateSeq(x0, a, b, M)\n",
        "                S1 = [int(math.modf(i*1e7)[1] % 256) for i in S1]\n",
        "                S1 = np.array(S1)\n",
        "\n",
        "                P[RLP[M-1]] = P[RLP[M-1]] ^ S1\n",
        "\n",
        "                x0 = key[r][5*(k-1)+3]\n",
        "                S2 = generateSeq(x0, a, b, M)\n",
        "                S2 = [int(math.modf(i*1e7)[1] % 256) for i in S2]\n",
        "                S2 = np.array(S2)\n",
        "\n",
        "                for i in range(M-1, 0, -1):\n",
        "                    P[RLP[i]] = (P[RLP[i]] - (P[RLP[i-1]] ^ S2) + 256) % 256\n",
        "                \n",
        "                avg = MeanFract_numpy(P, RLP[0])\n",
        "                x0 = key[r][5*(k-1)+2] + avg\n",
        "                S1 = generateSeq(x0, a, b, M)\n",
        "                S1 = [int(math.modf(i*1e7)[1] % 256) for i in S1]\n",
        "                S1 = np.array(S1)\n",
        "\n",
        "                P[RLP[0]] = P[RLP[0]] ^ S1\n",
        "\n",
        "        C[:,:,color] = P\n",
        "\n",
        "    C = C.astype(np.uint8)\n",
        "    return C"
      ],
      "execution_count": null,
      "outputs": []
    },
    {
      "cell_type": "code",
      "metadata": {
        "id": "LnTRfIqEBdX1"
      },
      "source": [
        "def shuffling(imgP, key):\n",
        "    C = np.ndarray(imgP.shape)\n",
        "\n",
        "    for color in range(3):\n",
        "        P = imgP[:,:,color].copy()\n",
        "        M = P.shape[0]\n",
        "        N = P.shape[1]\n",
        "        \n",
        "        x0 = key[0][1]\n",
        "        a = key[0][2]\n",
        "        b = key[0][0]\n",
        "        \n",
        "        S = generateSeq(x0, a, b, M*N)\n",
        "        S = [i[0] for i in sorted(enumerate(S), key=lambda x:x[1])]\n",
        "\n",
        "        G = list()\n",
        "        for i in range(M):\n",
        "            L = list()\n",
        "            for j in range(N):\n",
        "                L.append(P[S[i*N+j]//N][S[i*N+j]%N])\n",
        "            G.append(L)\n",
        "        \n",
        "        G = np.array(G)\n",
        "        C[:,:,color] = G\n",
        "    \n",
        "    C = C.astype(np.uint8)\n",
        "    return C"
      ],
      "execution_count": null,
      "outputs": []
    },
    {
      "cell_type": "code",
      "metadata": {
        "id": "LtHlgTohlRIP"
      },
      "source": [
        "def deshuffling(imgP, key):\n",
        "    C = np.ndarray(imgP.shape)\n",
        "\n",
        "    for color in range(3):\n",
        "        P = imgP[:,:,color].copy()\n",
        "        M = P.shape[0]\n",
        "        N = P.shape[1]\n",
        "        \n",
        "        x0 = key[0][1]\n",
        "        a = key[0][2]\n",
        "        b = key[0][0]\n",
        "        \n",
        "        S = generateSeq(x0, a, b, M*N)\n",
        "        S = [i[0] for i in sorted(enumerate(S), key=lambda x:x[1])]\n",
        "\n",
        "        G = [[0 for i in range(N)] for j in range(M)]\n",
        "        for i in range(M):\n",
        "            for j in range(N):\n",
        "                G[S[i*N+j]//N][S[i*N+j]%N] = P[i][j]\n",
        "        \n",
        "        G = np.array(G)\n",
        "        C[:,:,color] = G\n",
        "    \n",
        "    C = C.astype(np.uint8)\n",
        "    return C"
      ],
      "execution_count": null,
      "outputs": []
    },
    {
      "cell_type": "code",
      "metadata": {
        "id": "ZIZMnuCfxChW"
      },
      "source": [
        "def encrypt_(imgP, key, T):\n",
        "    # compute average\n",
        "    avg = 0\n",
        "    for i in range(imgP.shape[0]):\n",
        "        for j in range(imgP.shape[1]):\n",
        "            for k in range(3):\n",
        "                avg = avg+imgP[i][j][k]\n",
        "    avg = avg / (imgP.shape[0]*imgP.shape[1]*3)\n",
        "\n",
        "    # Shuffling\n",
        "    shuffled = shuffling(imgP, key)\n",
        "\n",
        "    C = np.ndarray(imgP.shape)\n",
        "\n",
        "    for color in range(3):\n",
        "        P = shuffled[:,:,color].copy()\n",
        "        P = P.astype(int)\n",
        "\n",
        "        for r in range(T):\n",
        "            for k in range(1, 3):\n",
        "                M = P.shape[0]\n",
        "                x0 = key[r][5*(k-1)+1] + MeanFract_list(key[r])\n",
        "                a = key[r][5*(k-1)+4]\n",
        "                b = key[r][5]\n",
        "\n",
        "                # Generate a random-like path using 1-DCF map\n",
        "                RLP = generateSeq(x0, a, b, M)\n",
        "\n",
        "                # Normalize the RLP sequence\n",
        "                RLP = [i[0] for i in sorted(enumerate(RLP), key=lambda x:x[1])]\n",
        "                RLP = np.array(RLP)\n",
        "\n",
        "                # Generate two sequences S1 and S2 by 1-DCF map\n",
        "                x0 = key[r][5*(k-1)+2] + avg\n",
        "                S1 = generateSeq(x0, a, b, M)\n",
        "                x0 = key[r][5*(k-1)+3]\n",
        "                S2 = generateSeq(x0, a, b, M)\n",
        "\n",
        "                # Normalize S1 and S2\n",
        "                S1 = [int(math.modf(i*1e7)[1] % 256) for i in S1]\n",
        "                S2 = [int(math.modf(i*1e7)[1] % 256) for i in S2]\n",
        "                S1 = np.array(S1)\n",
        "                S2 = np.array(S2)\n",
        "\n",
        "                P[RLP[0]] = P[RLP[0]] ^ S1\n",
        "                for i in range(1, M):\n",
        "                    P[RLP[i]] = (P[RLP[i]] + (P[RLP[i-1]] ^ S2)) % 256\n",
        "\n",
        "                # Generate two sequences S1 and S2 by 1-DCF map\n",
        "                x0 = key[r][5*(k-1)+3] + avg\n",
        "                S1 = generateSeq(x0, a, b, M)\n",
        "                x0 = key[r][5*(k-1)+2]\n",
        "                S2 = generateSeq(x0, a, b, M)\n",
        "\n",
        "                # Normalize S1 and S2\n",
        "                S1 = [int(math.modf(i*1e7)[1] % 256) for i in S1]\n",
        "                S2 = [int(math.modf(i*1e7)[1] % 256) for i in S2]\n",
        "                S1 = np.array(S1)\n",
        "                S2 = np.array(S2)\n",
        "\n",
        "                P[RLP[M-1]] = P[RLP[M-1]] ^ S1\n",
        "                for i in range(M-2, -1, -1):\n",
        "                    P[RLP[i]] = (P[RLP[i]] + (P[RLP[i+1]] ^ S2)) % 256\n",
        "\n",
        "        C[:,:,color] = P\n",
        "\n",
        "    C = C.astype(np.uint8)\n",
        "    return C, avg"
      ],
      "execution_count": null,
      "outputs": []
    },
    {
      "cell_type": "code",
      "metadata": {
        "id": "yJ2tIB2vzOyu"
      },
      "source": [
        "def decrypt_(imgP, key, T, avg):\n",
        "    C = np.ndarray(imgP.shape)\n",
        "\n",
        "    for color in range(3):\n",
        "        P = imgP[:,:,color].copy()\n",
        "        P = P.astype(int)\n",
        "\n",
        "        for r in range(T-1, -1, -1):\n",
        "            for k in range(2, 0, -1):\n",
        "                M = P.shape[0]\n",
        "                x0 = key[r][5*(k-1)+1] + MeanFract_list(key[r])\n",
        "                a = key[r][5*(k-1)+4]\n",
        "                b = key[r][5]\n",
        "\n",
        "                RLP = generateSeq(x0, a, b, M)\n",
        "                RLP = [i[0] for i in sorted(enumerate(RLP), key=lambda x:x[1])]\n",
        "                RLP = np.array(RLP)\n",
        "\n",
        "                x0 = key[r][5*(k-1)+2]\n",
        "                S2 = generateSeq(x0, a, b, M)\n",
        "                S2 = [int(math.modf(i*1e7)[1] % 256) for i in S2]\n",
        "                S2 = np.array(S2)\n",
        "\n",
        "                for i in range(M-1):\n",
        "                    P[RLP[i]] = (P[RLP[i]] - (P[RLP[i+1]] ^ S2) + 256) % 256\n",
        "                \n",
        "                x0 = key[r][5*(k-1)+3] + avg\n",
        "                S1 = generateSeq(x0, a, b, M)\n",
        "                S1 = [int(math.modf(i*1e7)[1] % 256) for i in S1]\n",
        "                S1 = np.array(S1)\n",
        "\n",
        "                P[RLP[M-1]] = P[RLP[M-1]] ^ S1\n",
        "\n",
        "                x0 = key[r][5*(k-1)+3]\n",
        "                S2 = generateSeq(x0, a, b, M)\n",
        "                S2 = [int(math.modf(i*1e7)[1] % 256) for i in S2]\n",
        "                S2 = np.array(S2)\n",
        "\n",
        "                for i in range(M-1, 0, -1):\n",
        "                    P[RLP[i]] = (P[RLP[i]] - (P[RLP[i-1]] ^ S2) + 256) % 256\n",
        "                \n",
        "                x0 = key[r][5*(k-1)+2] + avg\n",
        "                S1 = generateSeq(x0, a, b, M)\n",
        "                S1 = [int(math.modf(i*1e7)[1] % 256) for i in S1]\n",
        "                S1 = np.array(S1)\n",
        "\n",
        "                P[RLP[0]] = P[RLP[0]] ^ S1\n",
        "\n",
        "        C[:,:,color] = P\n",
        "\n",
        "    C = deshuffling(C, key)\n",
        "    C = C.astype(np.uint8)\n",
        "    return C"
      ],
      "execution_count": null,
      "outputs": []
    },
    {
      "cell_type": "code",
      "metadata": {
        "id": "0_7sGIF2m96T"
      },
      "source": [
        "T = 20\n",
        "key = generateKey(T)"
      ],
      "execution_count": null,
      "outputs": []
    },
    {
      "cell_type": "code",
      "metadata": {
        "id": "mdT06N-S-l39"
      },
      "source": [
        "imgC, avg = encrypt_(imgP, key, T)\n",
        "\n",
        "for i in range(256):\n",
        "    for j in range(148, 168):\n",
        "        imgC[i][j] = np.array([0, 0, 0])\n",
        "\n",
        "# for i in range(70):\n",
        "#     for j in range(70):\n",
        "#         imgC[i][j] = np.array([0, 0, 0])\n",
        "\n",
        "imgC = imgC.astype(np.uint8)\n",
        "img = Image.fromarray(imgC, 'RGB')\n",
        "img.save('Cipher.png')\n",
        "\n",
        "imgP_ = decrypt_(imgC, key, T, avg)\n",
        "img = Image.fromarray(imgP_, 'RGB')\n",
        "img.save('Decrypted.png')"
      ],
      "execution_count": null,
      "outputs": []
    },
    {
      "cell_type": "code",
      "metadata": {
        "id": "Bxknkb_5IW7e"
      },
      "source": [
        "imgC = encrypt(imgP, key, T)\n",
        "imgC = imgC.astype(np.uint8)\n",
        "img = Image.fromarray(imgC, 'RGB')\n",
        "img.save('Cipher.png')\n",
        "\n",
        "imgP_ = decrypt(imgC, key, T)\n",
        "img = Image.fromarray(imgP_, 'RGB')\n",
        "img.save('Decrypted.png')"
      ],
      "execution_count": null,
      "outputs": []
    }
  ]
}